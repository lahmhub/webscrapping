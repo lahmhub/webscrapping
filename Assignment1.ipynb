{
 "cells": [
  {
   "cell_type": "code",
   "execution_count": 1,
   "id": "d2b22a14",
   "metadata": {},
   "outputs": [],
   "source": [
    "import requests"
   ]
  },
  {
   "cell_type": "code",
   "execution_count": 2,
   "id": "9d07c92c",
   "metadata": {},
   "outputs": [],
   "source": [
    "from bs4 import BeautifulSoup"
   ]
  },
  {
   "cell_type": "code",
   "execution_count": 3,
   "id": "098b9cda",
   "metadata": {},
   "outputs": [],
   "source": [
    "response=requests.get(\"https://en.wikipedia.org/wiki/China\")"
   ]
  },
  {
   "cell_type": "code",
   "execution_count": null,
   "id": "5408d807",
   "metadata": {},
   "outputs": [],
   "source": [
    "response.text"
   ]
  },
  {
   "cell_type": "code",
   "execution_count": null,
   "id": "0806e8ec",
   "metadata": {},
   "outputs": [],
   "source": [
    "response.content"
   ]
  },
  {
   "cell_type": "code",
   "execution_count": 4,
   "id": "dc129142",
   "metadata": {},
   "outputs": [],
   "source": [
    "china=BeautifulSoup(response.text,\"html.parser\")"
   ]
  },
  {
   "cell_type": "code",
   "execution_count": 5,
   "id": "dd81cca6",
   "metadata": {},
   "outputs": [
    {
     "data": {
      "text/plain": [
       "'Flag of China'"
      ]
     },
     "execution_count": 5,
     "metadata": {},
     "output_type": "execute_result"
    }
   ],
   "source": [
    "china.find(\"a\",class_=\"mw-file-description\")[\"title\"]"
   ]
  },
  {
   "cell_type": "code",
   "execution_count": 6,
   "id": "ecf7af9e",
   "metadata": {},
   "outputs": [
    {
     "data": {
      "text/plain": [
       "'Flag of China'"
      ]
     },
     "execution_count": 6,
     "metadata": {},
     "output_type": "execute_result"
    }
   ],
   "source": [
    "china.find_all(\"a\",class_=\"mw-file-description\")[0][\"title\"]"
   ]
  },
  {
   "cell_type": "code",
   "execution_count": 7,
   "id": "484f9d18",
   "metadata": {},
   "outputs": [
    {
     "data": {
      "text/plain": [
       "'Emblem of China'"
      ]
     },
     "execution_count": 7,
     "metadata": {},
     "output_type": "execute_result"
    }
   ],
   "source": [
    "china.find_all(\"a\",class_=\"mw-file-description\")[1][\"title\"]"
   ]
  },
  {
   "cell_type": "code",
   "execution_count": 8,
   "id": "b8958a74",
   "metadata": {},
   "outputs": [
    {
     "data": {
      "text/plain": [
       "'/wiki/File:CHN_orthographic.svg'"
      ]
     },
     "execution_count": 8,
     "metadata": {},
     "output_type": "execute_result"
    }
   ],
   "source": [
    "china.find_all(\"a\",class_=\"mw-file-description\")[2][\"href\"]"
   ]
  },
  {
   "cell_type": "code",
   "execution_count": 9,
   "id": "7bb98518",
   "metadata": {},
   "outputs": [
    {
     "data": {
      "text/plain": [
       "'//upload.wikimedia.org/wikipedia/commons/thumb/f/fa/Flag_of_the_People%27s_Republic_of_China.svg/125px-Flag_of_the_People%27s_Republic_of_China.svg.png'"
      ]
     },
     "execution_count": 9,
     "metadata": {},
     "output_type": "execute_result"
    }
   ],
   "source": [
    "china.find(\"a\",class_=\"mw-file-description\").find(\"img\")[\"src\"]"
   ]
  },
  {
   "cell_type": "code",
   "execution_count": 10,
   "id": "9a4abd70",
   "metadata": {},
   "outputs": [
    {
     "name": "stdout",
     "output_type": "stream",
     "text": [
      "/static/images/icons/wikipedia.png\n",
      "/static/images/mobile/copyright/wikipedia-wordmark-en.svg\n",
      "/static/images/mobile/copyright/wikipedia-tagline-en.svg\n",
      "//upload.wikimedia.org/wikipedia/en/thumb/8/8c/Extended-protection-shackle.svg/20px-Extended-protection-shackle.svg.png\n",
      "//upload.wikimedia.org/wikipedia/commons/thumb/f/fa/Flag_of_the_People%27s_Republic_of_China.svg/125px-Flag_of_the_People%27s_Republic_of_China.svg.png\n",
      "//upload.wikimedia.org/wikipedia/commons/thumb/a/ab/National_Emblem_of_the_People%27s_Republic_of_China_%282%29.svg/85px-National_Emblem_of_the_People%27s_Republic_of_China_%282%29.svg.png\n",
      "//upload.wikimedia.org/wikipedia/commons/thumb/a/a4/CHN_orthographic.svg/250px-CHN_orthographic.svg.png\n",
      "//upload.wikimedia.org/wikipedia/commons/thumb/5/54/Decrease_Neutral.svg/11px-Decrease_Neutral.svg.png\n",
      "//upload.wikimedia.org/wikipedia/commons/thumb/b/b0/Increase2.svg/11px-Increase2.svg.png\n",
      "//upload.wikimedia.org/wikipedia/commons/thumb/b/b0/Increase2.svg/11px-Increase2.svg.png\n"
     ]
    }
   ],
   "source": [
    "images=china.select(\"img\",class_=\"mw-file-description\")\n",
    "for img in images[0:10]:\n",
    "    print(img[\"src\"])"
   ]
  },
  {
   "cell_type": "code",
   "execution_count": 11,
   "id": "32b7466a",
   "metadata": {},
   "outputs": [
    {
     "data": {
      "text/plain": [
       "'/static/images/icons/wikipedia.png'"
      ]
     },
     "execution_count": 11,
     "metadata": {},
     "output_type": "execute_result"
    }
   ],
   "source": [
    "china.select_one(\"img\",class_=\"mw-file-description\")[\"src\"]"
   ]
  },
  {
   "cell_type": "code",
   "execution_count": null,
   "id": "05d66565",
   "metadata": {},
   "outputs": [],
   "source": []
  }
 ],
 "metadata": {
  "kernelspec": {
   "display_name": "Python 3 (ipykernel)",
   "language": "python",
   "name": "python3"
  },
  "language_info": {
   "codemirror_mode": {
    "name": "ipython",
    "version": 3
   },
   "file_extension": ".py",
   "mimetype": "text/x-python",
   "name": "python",
   "nbconvert_exporter": "python",
   "pygments_lexer": "ipython3",
   "version": "3.11.5"
  }
 },
 "nbformat": 4,
 "nbformat_minor": 5
}
